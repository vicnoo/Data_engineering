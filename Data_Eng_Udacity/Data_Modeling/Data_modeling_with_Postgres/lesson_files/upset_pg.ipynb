{
 "metadata": {
  "language_info": {
   "codemirror_mode": {
    "name": "ipython",
    "version": 3
   },
   "file_extension": ".py",
   "mimetype": "text/x-python",
   "name": "python",
   "nbconvert_exporter": "python",
   "pygments_lexer": "ipython3",
   "version": "3.8.5-final"
  },
  "orig_nbformat": 2,
  "kernelspec": {
   "name": "python3",
   "display_name": "Python 3",
   "language": "python"
  }
 },
 "nbformat": 4,
 "nbformat_minor": 2,
 "cells": [
  {
   "cell_type": "code",
   "execution_count": 1,
   "metadata": {},
   "outputs": [
    {
     "output_type": "execute_result",
     "data": {
      "text/plain": [
       "'UPSET IN POSTGRESQL'"
      ]
     },
     "metadata": {},
     "execution_count": 1
    }
   ],
   "source": [
    "\"\"\"UPSET IN POSTGRESQL\"\"\""
   ]
  },
  {
   "cell_type": "code",
   "execution_count": 2,
   "metadata": {},
   "outputs": [
    {
     "output_type": "execute_result",
     "data": {
      "text/plain": [
       "'The INSERT statement adds in new rows within the table. The values associated with specific target columns can be added in any order.'"
      ]
     },
     "metadata": {},
     "execution_count": 2
    }
   ],
   "source": [
    "#INSERT\n",
    "\"\"\"The INSERT statement adds in new rows within the table. The values associated with specific target columns can be added in any order.\"\"\""
   ]
  },
  {
   "cell_type": "code",
   "execution_count": 3,
   "metadata": {},
   "outputs": [],
   "source": [
    "import psycopg2"
   ]
  },
  {
   "cell_type": "code",
   "execution_count": 5,
   "metadata": {},
   "outputs": [],
   "source": [
    "#create a connection\n",
    "try:\n",
    "    conn = psycopg2.connect(\"host=127.0.0.1 dbname=studentdb user=postgres password=Otieno@1125\")\n",
    "except psycopg2.Error as e:\n",
    "    print(\"Error: Could not make a connection to the postgres database\", e)\n",
    "\n",
    "try:\n",
    "    cur = conn.cursor()\n",
    "except psycopg2.Error as e:\n",
    "    print(\"Error: Could not get curser to the database\", e)\n",
    "conn.set_session(autocommit=True)"
   ]
  },
  {
   "cell_type": "code",
   "execution_count": 6,
   "metadata": {},
   "outputs": [],
   "source": [
    "# creating the table\n",
    "try:\n",
    "    cur.execute(\"CREATE TABLE IF NOT EXISTS customer_address (customer_id int PRIMARY KEY, customer_street varchar NOT NULL, customer_city text NOT NULL, customer_state text NOT NULL );\")\n",
    "except psycopg2.Error as e:\n",
    "    print(\"Error: Issue creating table\", e)"
   ]
  },
  {
   "cell_type": "code",
   "execution_count": 7,
   "metadata": {},
   "outputs": [],
   "source": [
    "# insert into table\n",
    "try:\n",
    "    cur.execute(\"INSERT INTO customer_address (customer_id, customer_street, customer_city, customer_state)\\\n",
    "                 VALUES (%s, %s, %s, %s)\", (432, '758 Main Street', 'Chicago', 'IL'))\n",
    "except psycopg2.Error as e:\n",
    "    print(\"Error: Inserting Rows\", e)"
   ]
  },
  {
   "cell_type": "code",
   "execution_count": 10,
   "metadata": {},
   "outputs": [
    {
     "output_type": "execute_result",
     "data": {
      "text/plain": [
       "\"assume that the customer moved and we need to update the customer's address. However we do not want to add a new customer id. In other words, if there is any conflict on the customer_id, we do not want that to change.\\n   This would be a good candidate for using the ON CONFLICT DO NOTHING clause.\\n\""
      ]
     },
     "metadata": {},
     "execution_count": 10
    }
   ],
   "source": [
    "\"\"\"assume that the customer moved and we need to update the customer's address. However we do not want to add a new customer id. In other words, if there is any conflict on the customer_id, we do not want that to change.\n",
    "   This would be a good candidate for using the ON CONFLICT DO NOTHING clause.\n",
    "\"\"\"\n"
   ]
  },
  {
   "cell_type": "code",
   "execution_count": 16,
   "metadata": {},
   "outputs": [],
   "source": [
    "# insert into table\n",
    "try:\n",
    "    cur.execute(\"INSERT INTO customer_address (customer_id, customer_street, customer_city, customer_state)\\\n",
    "                 VALUES (432, '923 Knox Street', 'Albany', 'NY') ON CONFLICT (customer_id) DO NOTHING;\")\n",
    "except psycopg2.Error as e:\n",
    "    print(\"Error: Inserting Rows\", e)"
   ]
  },
  {
   "cell_type": "code",
   "execution_count": 17,
   "metadata": {},
   "outputs": [
    {
     "output_type": "execute_result",
     "data": {
      "text/plain": [
       "\"Now, let's imagine we want to add more details in the existing address for an existing customer. This would be a good candidate for using the ON CONFLICT DO UPDATE clause.\""
      ]
     },
     "metadata": {},
     "execution_count": 17
    }
   ],
   "source": [
    "\"\"\"Now, let's imagine we want to add more details in the existing address for an existing customer. This would be a good candidate for using the ON CONFLICT DO UPDATE clause.\"\"\""
   ]
  },
  {
   "cell_type": "code",
   "execution_count": 19,
   "metadata": {},
   "outputs": [],
   "source": [
    "# insert into table\n",
    "try:\n",
    "    cur.execute(\"INSERT INTO customer_address (customer_id, customer_street, customer_city, customer_state)\\\n",
    "                 VALUES (432, '923 Knox Street, Suite 1', 'Albany', 'NY') ON CONFLICT (customer_id) DO UPDATE\\\n",
    "                SET customer_street  = EXCLUDED.customer_street;\")\n",
    "except psycopg2.Error as e:\n",
    "    print(\"Error: Inserting Rows\", e)"
   ]
  },
  {
   "cell_type": "code",
   "execution_count": null,
   "metadata": {},
   "outputs": [],
   "source": []
  }
 ]
}