{
 "metadata": {
  "language_info": {
   "codemirror_mode": {
    "name": "ipython",
    "version": 3
   },
   "file_extension": ".py",
   "mimetype": "text/x-python",
   "name": "python",
   "nbconvert_exporter": "python",
   "pygments_lexer": "ipython3",
   "version": "3.8.5-final"
  },
  "orig_nbformat": 2,
  "kernelspec": {
   "name": "python3",
   "display_name": "Python 3",
   "language": "python"
  }
 },
 "nbformat": 4,
 "nbformat_minor": 2,
 "cells": [
  {
   "cell_type": "code",
   "execution_count": 1,
   "metadata": {},
   "outputs": [
    {
     "output_type": "execute_result",
     "data": {
      "text/plain": [
       "'RELATIONAL DATA MODELING USING POSTGRES DB'"
      ]
     },
     "metadata": {},
     "execution_count": 1
    }
   ],
   "source": [
    "\"\"\"RELATIONAL DATA MODELING USING POSTGRES DB\"\"\""
   ]
  },
  {
   "cell_type": "code",
   "execution_count": 2,
   "metadata": {},
   "outputs": [],
   "source": [
    "import psycopg2"
   ]
  },
  {
   "cell_type": "code",
   "execution_count": 3,
   "metadata": {},
   "outputs": [],
   "source": [
    "#create a connection\n",
    "try:\n",
    "    conn = psycopg2.connect(\"host=127.0.0.1 dbname=udacity user=postgres password=Otieno@1125\")\n",
    "except psycopg2.Error as e:\n",
    "    print(\"Error: Could not make a connection to the postgres database\", e)\n",
    "\n",
    "try:\n",
    "    cur = conn.cursor()\n",
    "except psycopg2.Error as e:\n",
    "    print(\"Error: Could not get curser to the database\", e)\n",
    "conn.set_session(autocommit=True)"
   ]
  },
  {
   "cell_type": "code",
   "execution_count": 7,
   "metadata": {},
   "outputs": [],
   "source": [
    "try:\n",
    "    cur.execute(\"DROP TABLE music_library\")\n",
    "except psycopg2.Error as e:\n",
    "    print(\"Could not Drop the table because:\",e)"
   ]
  },
  {
   "cell_type": "code",
   "execution_count": 8,
   "metadata": {},
   "outputs": [
    {
     "output_type": "stream",
     "name": "stdout",
     "text": [
      "(1, 'Rubber Soul', 'The Beatles', 1965, ['Michelle', 'Think For Yourself', 'In My Life'])\n(2, 'Let It Be', 'The Beatles', 1970, ['Let It Be', 'Across The Universe'])\n"
     ]
    }
   ],
   "source": [
    "# creating a table in postgress\n",
    "try:\n",
    "    cur.execute(\"CREATE TABLE IF NOT EXISTS music_library (album_id int, \\\n",
    "                                                            album_name varchar, artist_name varchar, \\\n",
    "                                                            year int, songs text[]);\")\n",
    "except psycopg2.Error as e:\n",
    "    print(\"Error: Issue creating the table\", e)\n",
    "\n",
    "try:\n",
    "    cur.execute(\"INSERT INTO music_library (album_id, album_name, artist_name, year, songs) VALUES (%s, %s, %s, %s, %s)\", \n",
    "                (1, \"Rubber Soul\", \"The Beatles\", 1965, [\"Michelle\", \"Think For Yourself\", \"In My Life\"]))\n",
    "except psycopg2.Error as e:\n",
    "    print(\"Error: Inserting Rowws\", e)\n",
    "\n",
    "try:\n",
    "    cur.execute(\"INSERT INTO music_library (album_id, album_name, artist_name, year, songs) VALUES (%s, %s, %s, %s, %s)\", \n",
    "                (2, \"Let It Be\", \"The Beatles\", 1970, [\"Let It Be\", \"Across The Universe\"]))\n",
    "except psycopg2.Error as e:\n",
    "    print(\"Error: Inserting Rowws\", e)\n",
    "# fetch data\n",
    "try:\n",
    "    cur.execute(\"SELECT * FROM music_library\")\n",
    "except psycopg2.Error as e:\n",
    "    print(\"Error: select *\", e)\n",
    "row = cur.fetchone()\n",
    "while row:\n",
    "    print(row)\n",
    "    row = cur.fetchone()\n",
    "\n"
   ]
  },
  {
   "cell_type": "code",
   "execution_count": 10,
   "metadata": {},
   "outputs": [],
   "source": [
    "try:\n",
    "    cur.execute(\"DROP TABLE music_library2\")\n",
    "except psycopg2.Error as e:\n",
    "    print(\"Could not Drop the table because:\",e)"
   ]
  },
  {
   "cell_type": "code",
   "execution_count": 11,
   "metadata": {},
   "outputs": [
    {
     "output_type": "stream",
     "name": "stdout",
     "text": [
      "(1, 'Rubber Soul', 'The Beatles', 1965, 'Michelle')\n(1, 'Rubber Soul', 'The Beatles', 1965, 'Think For Yourself')\n(1, 'Rubber Soul', 'The Beatles', 1965, 'In My Life')\n(2, 'Let It Be', 'The Beatles', 1970, 'Let It Be')\n(2, 'Let It Be', 'The Beatles', 1970, 'Across The Universe')\n"
     ]
    }
   ],
   "source": [
    "# first normal form\n",
    "try:\n",
    "    cur.execute(\"CREATE TABLE IF NOT EXISTS music_library2 (album_id int, \\\n",
    "                                                            album_name varchar, artist_name varchar, \\\n",
    "                                                            year int, song_name varchar);\")\n",
    "except psycopg2.Error as e:\n",
    "    print(\"Error: Issue creating the table\", e)\n",
    "\n",
    "try:\n",
    "    cur.execute(\"INSERT INTO music_library2 (album_id, album_name, artist_name, year, song_name) VALUES (%s, %s, %s, %s, %s)\", \n",
    "                (1, \"Rubber Soul\", \"The Beatles\", 1965, \"Michelle\"))\n",
    "except psycopg2.Error as e:\n",
    "    print(\"Error: Inserting Rowws\", e)\n",
    "try:\n",
    "    cur.execute(\"INSERT INTO music_library2 (album_id, album_name, artist_name, year, song_name) VALUES (%s, %s, %s, %s, %s)\", \n",
    "                (1, \"Rubber Soul\", \"The Beatles\", 1965, \"Think For Yourself\"))\n",
    "except psycopg2.Error as e:\n",
    "    print(\"Error: Inserting Rowws\", e)\n",
    "try:\n",
    "    cur.execute(\"INSERT INTO music_library2 (album_id, album_name, artist_name, year, song_name) VALUES (%s, %s, %s, %s, %s)\", \n",
    "                (1, \"Rubber Soul\", \"The Beatles\", 1965, \"In My Life\"))\n",
    "except psycopg2.Error as e:\n",
    "    print(\"Error: Inserting Rowws\", e)\n",
    "\n",
    "try:\n",
    "    cur.execute(\"INSERT INTO music_library2 (album_id, album_name, artist_name, year, song_name) VALUES (%s, %s, %s, %s, %s)\", \n",
    "                (2, \"Let It Be\", \"The Beatles\", 1970, \"Let It Be\"))\n",
    "except psycopg2.Error as e:\n",
    "    print(\"Error: Inserting Rowws\", e)\n",
    "try:\n",
    "    cur.execute(\"INSERT INTO music_library2 (album_id, album_name, artist_name, year, song_name) VALUES (%s, %s, %s, %s, %s)\", \n",
    "                (2, \"Let It Be\", \"The Beatles\", 1970, \"Across The Universe\"))\n",
    "except psycopg2.Error as e:\n",
    "    print(\"Error: Inserting Rowws\", e)\n",
    "# fetch data\n",
    "try:\n",
    "    cur.execute(\"SELECT * FROM music_library2\")\n",
    "except psycopg2.Error as e:\n",
    "    print(\"Error: select *\", e)\n",
    "row = cur.fetchone()\n",
    "while row:\n",
    "    print(row)\n",
    "    row = cur.fetchone()"
   ]
  },
  {
   "cell_type": "code",
   "execution_count": 12,
   "metadata": {},
   "outputs": [
    {
     "output_type": "stream",
     "name": "stdout",
     "text": [
      "\nTable: album_library\n\n(1, 'Rubber Soul', 'The Beatles', 1965)\n(2, 'Let It Be', 'The Beatles', 1970)\n\nTable: song_library\n\n(1, 1, 'Michelle')\n(2, 1, 'Think For Yourself')\n(3, 1, 'In My Life')\n(4, 2, 'Let It Be')\n(5, 2, 'Across The Universe')\n"
     ]
    }
   ],
   "source": [
    "#second normal form\n",
    "#create the two tables album_library and song_library\n",
    "try:\n",
    "    cur.execute(\"CREATE TABLE IF NOT EXISTS album_library (album_id int, album_name varchar, artist_name varchar, year int);\")\n",
    "except psycopg2.Error as e:\n",
    "    print(\"Error: Issue creating the table\", e)\n",
    "\n",
    "try:\n",
    "    cur.execute(\"CREATE TABLE IF NOT EXISTS song_library (song_id int, album_id int, song_name varchar);\")\n",
    "except psycopg2.Error as e:\n",
    "    print(\"Error: Issue creating the table\", e)\n",
    "#insert into the tables \n",
    "try:\n",
    "    cur.execute(\"INSERT INTO album_library (album_id, album_name, artist_name, year) VALUES (%s, %s, %s, %s)\", \n",
    "                (1, \"Rubber Soul\", \"The Beatles\", 1965))\n",
    "except psycopg2.Error as e:\n",
    "    print(\"Error: Inserting Rowws\", e)\n",
    "try:\n",
    "    cur.execute(\"INSERT INTO album_library (album_id, album_name, artist_name, year) VALUES (%s, %s, %s, %s)\", \n",
    "                (2, \"Let It Be\", \"The Beatles\", 1970))\n",
    "except psycopg2.Error as e:\n",
    "    print(\"Error: Inserting Rowws\", e)\n",
    "\n",
    "try:\n",
    "    cur.execute(\"INSERT INTO song_library (song_id, album_id, song_name) VALUES (%s, %s, %s)\", \n",
    "                (1, 1, \"Michelle\"))\n",
    "except psycopg2.Error as e:\n",
    "    print(\"Error: Inserting Rowws\", e)\n",
    "try:\n",
    "    cur.execute(\"INSERT INTO song_library (song_id, album_id, song_name) VALUES (%s, %s, %s)\", \n",
    "                (2, 1, \"Think For Yourself\"))\n",
    "except psycopg2.Error as e:\n",
    "    print(\"Error: Inserting Rowws\", e)\n",
    "try:\n",
    "    cur.execute(\"INSERT INTO song_library (song_id, album_id, song_name) VALUES (%s, %s, %s)\", \n",
    "                (3, 1, \"In My Life\"))\n",
    "except psycopg2.Error as e:\n",
    "    print(\"Error: Inserting Rowws\", e)\n",
    "try:\n",
    "    cur.execute(\"INSERT INTO song_library (song_id, album_id, song_name) VALUES (%s, %s, %s)\", \n",
    "                (4, 2, \"Let It Be\"))\n",
    "except psycopg2.Error as e:\n",
    "    print(\"Error: Inserting Rowws\", e)\n",
    "try:\n",
    "    cur.execute(\"INSERT INTO song_library (song_id, album_id, song_name) VALUES (%s, %s, %s)\", \n",
    "                (5, 2, \"Across The Universe\"))\n",
    "except psycopg2.Error as e:\n",
    "    print(\"Error: Inserting Rowws\", e)\n",
    "\n",
    "# fetch data\n",
    "print(\"\\nTable: album_library\\n\")\n",
    "try:\n",
    "    cur.execute(\"SELECT * FROM album_library\")\n",
    "except psycopg2.Error as e:\n",
    "    print(\"Error: select *\", e)\n",
    "row = cur.fetchone()\n",
    "while row:\n",
    "    print(row)\n",
    "    row = cur.fetchone()\n",
    "print(\"\\nTable: song_library\\n\")\n",
    "try:\n",
    "    cur.execute(\"SELECT * FROM song_library\")\n",
    "except psycopg2.Error as e:\n",
    "    print(\"Error: select *\", e)\n",
    "row = cur.fetchone()\n",
    "while row:\n",
    "    print(row)\n",
    "    row = cur.fetchone()"
   ]
  },
  {
   "cell_type": "code",
   "execution_count": 13,
   "metadata": {},
   "outputs": [
    {
     "output_type": "stream",
     "name": "stdout",
     "text": [
      "(1, 'Rubber Soul', 'The Beatles', 1965, 1, 1, 'Michelle')\n(1, 'Rubber Soul', 'The Beatles', 1965, 2, 1, 'Think For Yourself')\n(1, 'Rubber Soul', 'The Beatles', 1965, 3, 1, 'In My Life')\n(2, 'Let It Be', 'The Beatles', 1970, 4, 2, 'Let It Be')\n(2, 'Let It Be', 'The Beatles', 1970, 5, 2, 'Across The Universe')\n"
     ]
    }
   ],
   "source": [
    "# do a join to pull all the records at once\n",
    "try:\n",
    "    cur.execute(\" SELECT * FROM album_library JOIN song_library ON album_library.album_id = song_library.album_id;\")\n",
    "except psycopg2.Error as e:\n",
    "    print(\"Error: select *\", e)\n",
    "row = cur.fetchone()\n",
    "while row:\n",
    "    print(row)\n",
    "    row = cur.fetchone()"
   ]
  },
  {
   "cell_type": "code",
   "execution_count": 19,
   "metadata": {},
   "outputs": [],
   "source": [
    "try:\n",
    "    cur.execute(\"DROP TABLE album_library\")\n",
    "except psycopg2.Error as e:\n",
    "    print(\"Could not Drop the table because:\",e)\n",
    "try:\n",
    "    cur.execute(\"DROP TABLE artist_library\")\n",
    "except psycopg2.Error as e:\n",
    "    print(\"Could not Drop the table because:\",e)"
   ]
  },
  {
   "cell_type": "code",
   "execution_count": 20,
   "metadata": {},
   "outputs": [
    {
     "output_type": "stream",
     "name": "stdout",
     "text": [
      "\nTable: album_library\n\n(1, 'Rubber Soul', 1, 1965)\n(2, 'Let It Be', 1, 1970)\n\nTable: song_library\n\n(1, 1, 'Michelle')\n(2, 1, 'Think For Yourself')\n(3, 1, 'In My Life')\n(4, 2, 'Let It Be')\n(5, 2, 'Across The Universe')\n\nTable: artist_library\n\n(1, 'The Beatles')\n"
     ]
    }
   ],
   "source": [
    "# third normal form\n",
    "# redesingn album_library table and introduce artist_library table\n",
    "try:\n",
    "    cur.execute(\"CREATE TABLE IF NOT EXISTS album_library (album_id int, album_name varchar, artist_id int, year int);\")\n",
    "except psycopg2.Error as e:\n",
    "    print(\"Error: Issue creating the table\", e)\n",
    "\n",
    "try:\n",
    "    cur.execute(\"CREATE TABLE IF NOT EXISTS artist_library (artist_id int, artist_name varchar);\")\n",
    "except psycopg2.Error as e:\n",
    "    print(\"Error: Issue creating the table\", e)\n",
    "\n",
    "#insert into the tables album_library\n",
    "try:\n",
    "    cur.execute(\"INSERT INTO album_library (album_id, album_name, artist_id, year) VALUES (%s, %s, %s, %s)\", \n",
    "                (1, \"Rubber Soul\",1, 1965))\n",
    "except psycopg2.Error as e:\n",
    "    print(\"Error: Inserting Rowws\", e)\n",
    "try:\n",
    "    cur.execute(\"INSERT INTO album_library (album_id, album_name, artist_id, year) VALUES (%s, %s, %s, %s)\", \n",
    "                (2, \"Let It Be\",1, 1970))\n",
    "except psycopg2.Error as e:\n",
    "    print(\"Error: Inserting Rowws\", e)\n",
    "\n",
    "#insert into the tables artist_library\n",
    "try:\n",
    "    cur.execute(\"INSERT INTO artist_library (artist_id, artist_name) VALUES (%s, %s)\", \n",
    "                (1, \"The Beatles\"))\n",
    "except psycopg2.Error as e:\n",
    "    print(\"Error: Inserting Rowws\", e)\n",
    "\n",
    "# fetch data\n",
    "print(\"\\nTable: album_library\\n\")\n",
    "try:\n",
    "    cur.execute(\"SELECT * FROM album_library\")\n",
    "except psycopg2.Error as e:\n",
    "    print(\"Error: select *\", e)\n",
    "row = cur.fetchone()\n",
    "while row:\n",
    "    print(row)\n",
    "    row = cur.fetchone()\n",
    "\n",
    "print(\"\\nTable: song_library\\n\")\n",
    "try:\n",
    "    cur.execute(\"SELECT * FROM song_library\")\n",
    "except psycopg2.Error as e:\n",
    "    print(\"Error: select *\", e)\n",
    "row = cur.fetchone()\n",
    "while row:\n",
    "    print(row)\n",
    "    row = cur.fetchone()\n",
    "\n",
    "print(\"\\nTable: artist_library\\n\")\n",
    "try:\n",
    "    cur.execute(\"SELECT * FROM artist_library\")\n",
    "except psycopg2.Error as e:\n",
    "    print(\"Error: select *\", e)\n",
    "row = cur.fetchone()\n",
    "while row:\n",
    "    print(row)\n",
    "    row = cur.fetchone()"
   ]
  },
  {
   "cell_type": "code",
   "execution_count": 21,
   "metadata": {},
   "outputs": [
    {
     "output_type": "stream",
     "name": "stdout",
     "text": [
      "(1, 'The Beatles', 1, 'Rubber Soul', 1, 1965, 1, 1, 'Michelle')\n(1, 'The Beatles', 1, 'Rubber Soul', 1, 1965, 2, 1, 'Think For Yourself')\n(1, 'The Beatles', 1, 'Rubber Soul', 1, 1965, 3, 1, 'In My Life')\n(1, 'The Beatles', 2, 'Let It Be', 1, 1970, 4, 2, 'Let It Be')\n(1, 'The Beatles', 2, 'Let It Be', 1, 1970, 5, 2, 'Across The Universe')\n"
     ]
    }
   ],
   "source": [
    "# do a join to pull all the records at once\n",
    "try:\n",
    "    cur.execute(\" SELECT * FROM (artist_library JOIN album_library ON artist_library.artist_id = album_library.artist_id) JOIN song_library ON album_library.album_id = song_library.album_id;\")\n",
    "except psycopg2.Error as e:\n",
    "    print(\"Error: select *\", e)\n",
    "row = cur.fetchone()\n",
    "while row:\n",
    "    print(row)\n",
    "    row = cur.fetchone()"
   ]
  },
  {
   "cell_type": "code",
   "execution_count": null,
   "metadata": {},
   "outputs": [],
   "source": []
  }
 ]
}