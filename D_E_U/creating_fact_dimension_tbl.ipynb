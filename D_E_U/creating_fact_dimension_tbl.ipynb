{
 "metadata": {
  "language_info": {
   "codemirror_mode": {
    "name": "ipython",
    "version": 3
   },
   "file_extension": ".py",
   "mimetype": "text/x-python",
   "name": "python",
   "nbconvert_exporter": "python",
   "pygments_lexer": "ipython3",
   "version": "3.8.5-final"
  },
  "orig_nbformat": 2,
  "kernelspec": {
   "name": "python3",
   "display_name": "Python 3",
   "language": "python"
  }
 },
 "nbformat": 4,
 "nbformat_minor": 2,
 "cells": [
  {
   "cell_type": "code",
   "execution_count": 1,
   "metadata": {},
   "outputs": [
    {
     "output_type": "execute_result",
     "data": {
      "text/plain": [
       "'DATA MODELING FOR FACTS AND DIMENSION TABLES '"
      ]
     },
     "metadata": {},
     "execution_count": 1
    }
   ],
   "source": [
    "\"\"\"DATA MODELING FOR FACTS AND DIMENSION TABLES \"\"\""
   ]
  },
  {
   "cell_type": "code",
   "execution_count": 2,
   "metadata": {},
   "outputs": [],
   "source": [
    "import psycopg2"
   ]
  },
  {
   "cell_type": "code",
   "execution_count": 3,
   "metadata": {},
   "outputs": [],
   "source": [
    "#create a connection\n",
    "try:\n",
    "    conn = psycopg2.connect(\"host=127.0.0.1 dbname=udacity user=postgres password=Otieno@1125\")\n",
    "except psycopg2.Error as e:\n",
    "    print(\"Error: Could not make a connection to the postgres database\", e)\n",
    "\n",
    "try:\n",
    "    cur = conn.cursor()\n",
    "except psycopg2.Error as e:\n",
    "    print(\"Error: Could not get curser to the database\", e)\n",
    "conn.set_session(autocommit=True)"
   ]
  },
  {
   "cell_type": "code",
   "execution_count": 24,
   "metadata": {},
   "outputs": [],
   "source": [
    "# creating the dimension table\n",
    "query = \"drop table Fact_customer_transaction;\"\n",
    "try:\n",
    "    cur.execute(query)\n",
    "except Exception as e:\n",
    "    print(e)"
   ]
  },
  {
   "cell_type": "code",
   "execution_count": 7,
   "metadata": {},
   "outputs": [],
   "source": [
    "# creating the fact table\n",
    "try:\n",
    "    cur.execute(\"CREATE TABLE IF NOT EXISTS Fact_customer_transactions (customer_id int, store_id int, spent numeric);\")\n",
    "except psycopg2.Error as e:\n",
    "    print(\"Error: Issue creating table\", e)\n",
    "# insert into Fact table\n",
    "try:\n",
    "    cur.execute(\"INSERT INTO Fact_customer_transactions (customer_id, store_id, spent)\\\n",
    "                 VALUES (%s, %s, %s)\", (1,1,20.5))\n",
    "except psycopg2.Error as e:\n",
    "    print(\"Error: Inserting Rows\", e)\n",
    "try:\n",
    "    cur.execute(\"INSERT INTO Fact_customer_transactions (customer_id, store_id, spent)\\\n",
    "                 VALUES (%s, %s, %s)\", (2,1,35.21))\n",
    "except psycopg2.Error as e:\n",
    "    print(\"Error: Inserting Rows\", e)"
   ]
  },
  {
   "cell_type": "code",
   "execution_count": 19,
   "metadata": {},
   "outputs": [],
   "source": [
    "# creating the dimension table\n",
    "query = \"drop table Dim_items_purchased;\"\n",
    "try:\n",
    "    cur.execute(query)\n",
    "except Exception as e:\n",
    "    print(e)"
   ]
  },
  {
   "cell_type": "code",
   "execution_count": 21,
   "metadata": {},
   "outputs": [],
   "source": [
    "# creating the dimension table\n",
    "try:\n",
    "    cur.execute(\"CREATE TABLE IF NOT EXISTS Dim_items_purchased (customer_id int, item_number int, item_name varchar);\")\n",
    "except psycopg2.Error as e:\n",
    "    print(\"Error: Issue creating table\", e)\n",
    "#insert into Dimesion table\n",
    "try:\n",
    "    cur.execute(\"INSERT INTO Dim_items_purchased (customer_id, item_number, item_name)\\\n",
    "                 VALUES (%s, %s, %s)\", (1, 1, \"Rubber Soul\"))\n",
    "except psycopg2.Error as e:\n",
    "    print(\"Error: Inserting Rows\", e)\n",
    "\n",
    "try:\n",
    "    cur.execute(\"INSERT INTO Dim_items_purchased (customer_id, item_number, item_name)\\\n",
    "                 VALUES (%s, %s, %s)\", (2, 3,\"Let It Be\"))\n",
    "except psycopg2.Error as e:\n",
    "    print(\"Error: Inserting Rows\", e)\n"
   ]
  },
  {
   "cell_type": "code",
   "execution_count": 23,
   "metadata": {},
   "outputs": [],
   "source": [
    "# creating the dimension table\n",
    "query = \"drop table Dim_customer;\"\n",
    "try:\n",
    "    cur.execute(query)\n",
    "except Exception as e:\n",
    "    print(e)"
   ]
  },
  {
   "cell_type": "code",
   "execution_count": 27,
   "metadata": {},
   "outputs": [],
   "source": [
    "# creating the dimension table\n",
    "query = \"drop table Dim_store;\"\n",
    "try:\n",
    "    cur.execute(query)\n",
    "except Exception as e:\n",
    "    print(e)"
   ]
  },
  {
   "cell_type": "code",
   "execution_count": 28,
   "metadata": {},
   "outputs": [],
   "source": [
    "# creating the dimension table\n",
    "try:\n",
    "    cur.execute(\"CREATE TABLE IF NOT EXISTS Dim_store (store_id int, state varchar);\")\n",
    "except psycopg2.Error as e:\n",
    "    print(\"Error: Issue creating table\", e)\n",
    "#insert into Dimesion table\n",
    "try:\n",
    "    cur.execute(\"INSERT INTO Dim_store (store_id, state)\\\n",
    "                 VALUES (%s, %s)\", (1,\"CA\"))\n",
    "except psycopg2.Error as e:\n",
    "    print(\"Error: Inserting Rows\", e)\n",
    "\n",
    "try:\n",
    "    cur.execute(\"INSERT INTO Dim_store (store_id, state)\\\n",
    "                 VALUES (%s, %s)\", (2,\"WA\"))\n",
    "except psycopg2.Error as e:\n",
    "    print(\"Error: Inserting Rows\", e)\n",
    "\n",
    "# creating the dimension table\n",
    "try:\n",
    "    cur.execute(\"CREATE TABLE IF NOT EXISTS Dim_customer (customer_id int, name varchar, rewards boolean);\")\n",
    "except psycopg2.Error as e:\n",
    "    print(\"Error: Issue creating table\", e)\n",
    "#insert into Dimesion table\n",
    "try:\n",
    "    cur.execute(\"INSERT INTO Dim_customer (customer_id, name, rewards)\\\n",
    "                 VALUES (%s, %s, %s)\", (1,\"Tuffy\", True))\n",
    "except psycopg2.Error as e:\n",
    "    print(\"Error: Inserting Rows\", e)\n",
    "try:\n",
    "    cur.execute(\"INSERT INTO Dim_customer (customer_id, name, rewards)\\\n",
    "                 VALUES (%s, %s, %s)\", (2,\"Bobo\", False))\n",
    "except psycopg2.Error as e:\n",
    "    print(\"Error: Inserting Rows\", e)"
   ]
  },
  {
   "cell_type": "code",
   "execution_count": 4,
   "metadata": {},
   "outputs": [
    {
     "output_type": "stream",
     "name": "stdout",
     "text": [
      "('Bobo', 'Let It Be', False)\n"
     ]
    }
   ],
   "source": [
    "# Find all customers that spent more than 30 dollars, who they are, what did they buy and if they are a reward member\n",
    "try:\n",
    "    cur.execute(\"SELECT name, item_name, rewards FROM ((Fact_customer_transactions \\\n",
    "                 JOIN Dim_customer ON Dim_customer.customer_id=Fact_customer_transactions.customer_id) \\\n",
    "                 JOIN Dim_items_purchased ON \\\n",
    "                 Fact_customer_transactions.customer_id=Dim_items_purchased.customer_id) \\\n",
    "                 WHERE spent > 30;\")\n",
    "except psycopg2.Error as e:\n",
    "    print(\"Error: select *\", e)\n",
    "\n",
    "row = cur.fetchone()\n",
    "while row:\n",
    "    print(row)\n",
    "    row = cur.fetchone()\n",
    "\n"
   ]
  },
  {
   "cell_type": "code",
   "execution_count": 6,
   "metadata": {},
   "outputs": [
    {
     "output_type": "stream",
     "name": "stdout",
     "text": [
      "(1, Decimal('55.71'))\n"
     ]
    }
   ],
   "source": [
    "# how much did store 1 sell\n",
    "try:\n",
    "    cur.execute(\"SELECT store_id, SUM(spent) FROM Fact_customer_transactions GROUP BY store_id;\")\n",
    "except psycopg2.Error as e:\n",
    "    print(\"Error: select *\", e)\n",
    "row = cur.fetchone()\n",
    "while row:\n",
    "    print(row)\n",
    "    row = cur.fetchone()"
   ]
  },
  {
   "cell_type": "code",
   "execution_count": 7,
   "metadata": {},
   "outputs": [],
   "source": [
    "cur.close()\n",
    "conn.close()"
   ]
  },
  {
   "cell_type": "code",
   "execution_count": null,
   "metadata": {},
   "outputs": [],
   "source": []
  }
 ]
}