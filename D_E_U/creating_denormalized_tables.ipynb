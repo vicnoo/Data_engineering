{
 "metadata": {
  "language_info": {
   "codemirror_mode": {
    "name": "ipython",
    "version": 3
   },
   "file_extension": ".py",
   "mimetype": "text/x-python",
   "name": "python",
   "nbconvert_exporter": "python",
   "pygments_lexer": "ipython3",
   "version": "3.8.5-final"
  },
  "orig_nbformat": 2,
  "kernelspec": {
   "name": "python3",
   "display_name": "Python 3",
   "language": "python"
  }
 },
 "nbformat": 4,
 "nbformat_minor": 2,
 "cells": [
  {
   "cell_type": "code",
   "execution_count": 1,
   "metadata": {},
   "outputs": [
    {
     "output_type": "execute_result",
     "data": {
      "text/plain": [
       "'CREATING DENORMALIZED TABLES IN POSGRESDB WHITH PYTHON '"
      ]
     },
     "metadata": {},
     "execution_count": 1
    }
   ],
   "source": [
    "\"\"\"CREATING DENORMALIZED TABLES IN POSGRESDB WHITH PYTHON \"\"\""
   ]
  },
  {
   "cell_type": "code",
   "execution_count": 2,
   "metadata": {},
   "outputs": [],
   "source": [
    "import psycopg2"
   ]
  },
  {
   "cell_type": "code",
   "execution_count": 3,
   "metadata": {},
   "outputs": [],
   "source": [
    "#create a connection\n",
    "try:\n",
    "    conn = psycopg2.connect(\"host=127.0.0.1 dbname=udacity user=postgres password=Otieno@1125\")\n",
    "except psycopg2.Error as e:\n",
    "    print(\"Error: Could not make a connection to the postgres database\", e)\n",
    "\n",
    "try:\n",
    "    cur = conn.cursor()\n",
    "except psycopg2.Error as e:\n",
    "    print(\"Error: Could not get curser to the database\", e)\n",
    "conn.set_session(autocommit=True)"
   ]
  },
  {
   "cell_type": "code",
   "execution_count": 4,
   "metadata": {},
   "outputs": [],
   "source": [
    "try:\n",
    "    cur.execute(\"CREATE TABLE IF NOT EXISTS song_length (song_id int, song_lenght int);\")\n",
    "except psycopg2.Error as e:\n",
    "    print(\"Error: Issue creating the table\", e)"
   ]
  },
  {
   "cell_type": "code",
   "execution_count": 5,
   "metadata": {},
   "outputs": [],
   "source": [
    "#insert into the tables song_length\n",
    "try:\n",
    "    cur.execute(\"INSERT INTO song_length (song_id, song_lenght) VALUES (%s, %s)\", \n",
    "                (1, 163))\n",
    "except psycopg2.Error as e:\n",
    "    print(\"Error: Inserting Rowws\", e)\n",
    "try:\n",
    "    cur.execute(\"INSERT INTO song_length (song_id, song_lenght) VALUES (%s, %s)\", \n",
    "                (2, 137))\n",
    "except psycopg2.Error as e:\n",
    "    print(\"Error: Inserting Rowws\", e)\n",
    "try:\n",
    "    cur.execute(\"INSERT INTO song_length (song_id, song_lenght) VALUES (%s, %s)\", \n",
    "                (3, 145))\n",
    "except psycopg2.Error as e:\n",
    "    print(\"Error: Inserting Rowws\", e)\n",
    "try:\n",
    "    cur.execute(\"INSERT INTO song_length (song_id, song_lenght) VALUES (%s, %s)\", \n",
    "                (4, 240))\n",
    "except psycopg2.Error as e:\n",
    "    print(\"Error: Inserting Rowws\", e)\n",
    "try:\n",
    "    cur.execute(\"INSERT INTO song_length (song_id, song_lenght) VALUES (%s, %s)\", \n",
    "                (5, 227))\n",
    "except psycopg2.Error as e:\n",
    "    print(\"Error: Inserting Rowws\", e)"
   ]
  },
  {
   "cell_type": "code",
   "execution_count": 19,
   "metadata": {},
   "outputs": [
    {
     "output_type": "stream",
     "name": "stdout",
     "text": [
      "\nTable: album_library\n\n(1, 'Rubber Soul', 1, 1965)\n(2, 'Let It Be', 1, 1970)\n\nTable: song_library\n\n(1, 1, 'Michelle')\n(2, 1, 'Think For Yourself')\n(3, 1, 'In My Life')\n(4, 2, 'Let It Be')\n(5, 2, 'Across The Universe')\n\nTable: artist_library\n\n(1, 'The Beatles')\n\nTable: song_length\n\n(1, 163)\n(2, 137)\n(3, 145)\n(4, 240)\n(5, 227)\n"
     ]
    }
   ],
   "source": [
    "# fetch data\n",
    "print(\"\\nTable: album_library\\n\")\n",
    "try:\n",
    "    cur.execute(\"SELECT * FROM album_library\")\n",
    "except psycopg2.Error as e:\n",
    "    print(\"Error: select *\", e)\n",
    "row = cur.fetchone()\n",
    "while row:\n",
    "    print(row)\n",
    "    row = cur.fetchone()\n",
    "\n",
    "print(\"\\nTable: song_library\\n\")\n",
    "try:\n",
    "    cur.execute(\"SELECT * FROM song_library\")\n",
    "except psycopg2.Error as e:\n",
    "    print(\"Error: select *\", e)\n",
    "row = cur.fetchone()\n",
    "while row:\n",
    "    print(row)\n",
    "    row = cur.fetchone()\n",
    "\n",
    "print(\"\\nTable: artist_library\\n\")\n",
    "try:\n",
    "    cur.execute(\"SELECT * FROM artist_library\")\n",
    "except psycopg2.Error as e:\n",
    "    print(\"Error: select *\", e)\n",
    "row = cur.fetchone()\n",
    "while row:\n",
    "    print(row)\n",
    "    row = cur.fetchone()\n",
    "print(\"\\nTable: song_length\\n\")\n",
    "try:\n",
    "    cur.execute(\"SELECT * FROM song_length\")\n",
    "except psycopg2.Error as e:\n",
    "    print(\"Error: select *\", e)\n",
    "row = cur.fetchone()\n",
    "while row:\n",
    "    print(row)\n",
    "    row = cur.fetchone()"
   ]
  },
  {
   "cell_type": "code",
   "execution_count": 21,
   "metadata": {
    "tags": []
   },
   "outputs": [
    {
     "output_type": "stream",
     "name": "stdout",
     "text": [
      "(1, 'The Beatles', 1, 'Rubber Soul', 1965, 1, 'Michelle', 163)\n(1, 'The Beatles', 1, 'Rubber Soul', 1965, 2, 'Think For Yourself', 137)\n(1, 'The Beatles', 1, 'Rubber Soul', 1965, 3, 'In My Life', 145)\n(1, 'The Beatles', 2, 'Let It Be', 1970, 4, 'Let It Be', 240)\n(1, 'The Beatles', 2, 'Let It Be', 1970, 5, 'Across The Universe', 227)\n"
     ]
    }
   ],
   "source": [
    "#select data from all the tables\n",
    "try:\n",
    "    cur.execute(\"SELECT artist_library.artist_id, artist_name, album_library.album_id, \\\n",
    "                        album_name, year, song_library.song_id,song_name, song_lenght \\\n",
    "                 FROM ((artist_library JOIN album_library ON \\\n",
    "                        artist_library.artist_id = album_library.artist_id) JOIN \\\n",
    "                        song_library ON album_library.album_id = song_library.album_id) JOIN \\\n",
    "                        song_length ON song_library.song_id = song_length.song_id;\")\n",
    "except psycopg2.Error as e:\n",
    "    print(\"Error: select *\",e)\n",
    "\n",
    "row = cur.fetchone()\n",
    "while row:\n",
    "    print(row)\n",
    "    row = cur.fetchone()"
   ]
  },
  {
   "cell_type": "code",
   "execution_count": 23,
   "metadata": {},
   "outputs": [],
   "source": [
    "#denomalizing a normalized table\n",
    "\n",
    "# try:\n",
    "#     cur.execute(\"CREATE TABLE IF NOT EXISTS album_library1 (album_id int, \\\n",
    "#                                                             album_name varchar, artist_name varchar, \\\n",
    "#                                                             artist_id int, year int);\")\n",
    "# except psycopg2.Error as e:\n",
    "#     print(\"Error: Issue creating the table\", e)\n",
    "try:\n",
    "    cur.execute(\"CREATE TABLE IF NOT EXISTS song_library1 (song_id int, album_id int,\\\n",
    "                                                            song_name varchar, song_lenght int);\")\n",
    "except psycopg2.Error as e:\n",
    "    print(\"Error: Issue creating the table\", e)\n",
    "# insert into tables\n",
    "\n",
    "try:\n",
    "    cur.execute(\"INSERT INTO song_library1 (song_id, album_id, song_name,song_lenght) VALUES (%s, %s, %s, %s)\", \n",
    "                (1, 1, \"Michelle\", 163))\n",
    "except psycopg2.Error as e:\n",
    "    print(\"Error: Inserting Rowws\", e)\n",
    "try:\n",
    "    cur.execute(\"INSERT INTO song_library1 (song_id, album_id, song_name,song_lenght) VALUES (%s, %s, %s, %s)\", \n",
    "                (2, 1, \"Think For Yourself\", 137))\n",
    "except psycopg2.Error as e:\n",
    "    print(\"Error: Inserting Rowws\", e)\n",
    "try:\n",
    "    cur.execute(\"INSERT INTO song_library1 (song_id, album_id, song_name,song_lenght) VALUES (%s, %s, %s, %s)\", \n",
    "                (3, 1, \"In My Life\", 145))\n",
    "except psycopg2.Error as e:\n",
    "    print(\"Error: Inserting Rowws\", e)\n",
    "try:\n",
    "    cur.execute(\"INSERT INTO song_library1 (song_id, album_id, song_name,song_lenght) VALUES (%s, %s, %s, %s)\", \n",
    "                (4, 2, \"Let It Be\", 240))\n",
    "except psycopg2.Error as e:\n",
    "    print(\"Error: Inserting Rowws\", e)\n",
    "try:\n",
    "    cur.execute(\"INSERT INTO song_library1 (song_id, album_id, song_name,song_lenght) VALUES (%s, %s, %s, %s)\", \n",
    "                (5, 2, \"Across The Universe\", 227))\n",
    "except psycopg2.Error as e:\n",
    "    print(\"Error: Inserting Rowws\", e)"
   ]
  },
  {
   "cell_type": "code",
   "execution_count": 31,
   "metadata": {},
   "outputs": [],
   "source": [
    "try:\n",
    "     cur.execute(\"CREATE TABLE IF NOT EXISTS album_library1 (album_id int, \\\n",
    "                                                             album_name varchar, artist_name varchar, \\\n",
    "                                                             artist_id int, year int);\")\n",
    "except psycopg2.Error as e:\n",
    "     print(\"Error: Issue creating the table\", e)\n",
    "#insert into table\n",
    "try:\n",
    "    cur.execute(\"INSERT INTO album_library1 (album_id, album_name, artist_name, artist_id, year) VALUES (%s, %s, %s, %s, %s)\", \n",
    "                (1, \"Rubber Soul\", \"The Beatles\", 1, 1965))\n",
    "except psycopg2.Error as e:\n",
    "    print(\"Error: Inserting Rowws\", e)\n",
    "\n",
    "try:\n",
    "    cur.execute(\"INSERT INTO album_library1 (album_id, album_name, artist_name, artist_id, year) VALUES (%s, %s, %s, %s, %s)\", \n",
    "                (2, \"Let It Be\", \"The Beatles\", 1, 1970))\n",
    "except psycopg2.Error as e:\n",
    "    print(\"Error: Inserting Rowws\", e)"
   ]
  },
  {
   "cell_type": "code",
   "execution_count": 32,
   "metadata": {},
   "outputs": [
    {
     "output_type": "stream",
     "name": "stdout",
     "text": [
      "\nTable: album_library1\n\n(1, 'Rubber Soul', 1, 1965)\n(2, 'Let It Be', 1, 1970)\n\nTable: song_library1\n\n(1, 1, 'Michelle')\n(2, 1, 'Think For Yourself')\n(3, 1, 'In My Life')\n(4, 2, 'Let It Be')\n(5, 2, 'Across The Universe')\n"
     ]
    }
   ],
   "source": [
    "print(\"\\nTable: album_library1\\n\")\n",
    "try:\n",
    "    cur.execute(\"SELECT * FROM album_library\")\n",
    "except psycopg2.Error as e:\n",
    "    print(\"Error: select *\", e)\n",
    "row = cur.fetchone()\n",
    "while row:\n",
    "    print(row)\n",
    "    row = cur.fetchone()\n",
    "\n",
    "print(\"\\nTable: song_library1\\n\")\n",
    "try:\n",
    "    cur.execute(\"SELECT * FROM song_library\")\n",
    "except psycopg2.Error as e:\n",
    "    print(\"Error: select *\", e)\n",
    "row = cur.fetchone()\n",
    "while row:\n",
    "    print(row)\n",
    "    row = cur.fetchone()"
   ]
  },
  {
   "cell_type": "code",
   "execution_count": 34,
   "metadata": {},
   "outputs": [
    {
     "output_type": "stream",
     "name": "stdout",
     "text": [
      "('The Beatles', 'Rubber Soul', 1965, 'Michelle', 163)\n('The Beatles', 'Rubber Soul', 1965, 'Think For Yourself', 137)\n('The Beatles', 'Rubber Soul', 1965, 'In My Life', 145)\n('The Beatles', 'Let It Be', 1970, 'Let It Be', 240)\n('The Beatles', 'Let It Be', 1970, 'Across The Universe', 227)\n"
     ]
    }
   ],
   "source": [
    "try:\n",
    "    cur.execute(\"SELECT artist_name, album_name, year, song_name, song_lenght\\\n",
    "                 FROM song_library1 JOIN album_library1 ON \\\n",
    "                      song_library1.album_id = album_library1.album_id;\")\n",
    "except psycopg2.Error as e:\n",
    "    print(\"Error: select *\", e)\n",
    "\n",
    "row = cur.fetchone()\n",
    "while row:\n",
    "    print(row)\n",
    "    row = cur.fetchone()"
   ]
  },
  {
   "cell_type": "code",
   "execution_count": 35,
   "metadata": {},
   "outputs": [],
   "source": [
    "try:\n",
    "    cur.execute(\"CREATE TABLE IF NOT EXISTS album_length (song_id int, album_name varchar, song_length int);\")\n",
    "except psycopg2.Error as e:\n",
    "    print(\"Error: Issue creating table\")\n",
    "# insert data\n",
    "try:\n",
    "    cur.execute(\"INSERT INTO album_length (song_id, album_name, song_length) VALUES (%s, %s, %s)\", \n",
    "                (1, \"Rubber Soul\", 163))\n",
    "except psycopg2.Error as e:\n",
    "    print(\"Error: Inserting Rowws\", e)\n",
    "try:\n",
    "    cur.execute(\"INSERT INTO album_length (song_id, album_name, song_length) VALUES (%s, %s, %s)\", \n",
    "                (2, \"Rubber Soul\", 137))\n",
    "except psycopg2.Error as e:\n",
    "    print(\"Error: Inserting Rowws\", e)\n",
    "try:\n",
    "    cur.execute(\"INSERT INTO album_length (song_id, album_name, song_length) VALUES (%s, %s, %s)\", \n",
    "                (3, \"Rubber Soul\", 145))\n",
    "except psycopg2.Error as e:\n",
    "    print(\"Error: Inserting Rowws\", e)\n",
    "try:\n",
    "    cur.execute(\"INSERT INTO album_length (song_id, album_name, song_length) VALUES (%s, %s, %s)\", \n",
    "                (4, \"Let It Be\", 240))\n",
    "except psycopg2.Error as e:\n",
    "    print(\"Error: Inserting Rowws\", e)\n",
    "try:\n",
    "    cur.execute(\"INSERT INTO album_length (song_id, album_name, song_length) VALUES (%s, %s, %s)\", \n",
    "                (5, \"Let It Be\", 227))\n",
    "except psycopg2.Error as e:\n",
    "    print(\"Error: Inserting Rowws\", e)"
   ]
  },
  {
   "cell_type": "code",
   "execution_count": 36,
   "metadata": {},
   "outputs": [
    {
     "output_type": "stream",
     "name": "stdout",
     "text": [
      "('Rubber Soul', 445)\n('Let It Be', 467)\n"
     ]
    }
   ],
   "source": [
    "try:\n",
    "    cur.execute(\"SELECT album_name, SUM(song_length) FROM album_length GROUP BY album_name;\")\n",
    "except psycopg2.Error as e:\n",
    "    print(\"Error: select *\")\n",
    "row = cur.fetchone()\n",
    "while row:\n",
    "    print(row)\n",
    "    row = cur.fetchone()"
   ]
  },
  {
   "cell_type": "code",
   "execution_count": 37,
   "metadata": {},
   "outputs": [],
   "source": [
    "cur.close()\n",
    "conn.close()"
   ]
  },
  {
   "cell_type": "code",
   "execution_count": null,
   "metadata": {},
   "outputs": [],
   "source": []
  }
 ]
}